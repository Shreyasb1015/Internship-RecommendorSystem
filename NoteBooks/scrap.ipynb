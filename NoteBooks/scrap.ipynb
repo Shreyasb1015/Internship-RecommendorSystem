{
 "cells": [
  {
   "cell_type": "code",
   "execution_count": 4,
   "id": "818f7a0e-d1c4-4a71-afdd-1f80f5d37017",
   "metadata": {
    "tags": []
   },
   "outputs": [
    {
     "name": "stdout",
     "output_type": "stream",
     "text": [
      "DataSet created successfully'\n"
     ]
    }
   ],
   "source": [
    "##importing dependencies\n",
    "import requests\n",
    "from bs4 import BeautifulSoup\n",
    "import csv\n",
    "\n",
    "\n",
    "company_names_list = []\n",
    "titles_list = []\n",
    "locations_list = []\n",
    "stipends_list = []\n",
    "\n",
    "\n",
    "for page_number in range(1, 150):\n",
    "    #Setting the url\n",
    "    url = f'https://internshala.com/internships/page-{page_number}'\n",
    "    #Sending the request\n",
    "    page = requests.get(url)\n",
    "    soup = BeautifulSoup(page.content, 'html.parser')\n",
    "    \n",
    "    #Fetching the data\n",
    "\n",
    "    company_names = soup.find_all(class_='link_display_like_text view_detail_button')\n",
    "    selected_company_names = [company.text.strip() for company in company_names[1:41]]\n",
    "\n",
    "    internship_titles = soup.find_all(class_='heading_4_5 profile')\n",
    "    selected_titles = [title.text.replace('\\n', '').strip() for title in internship_titles[1:41]]\n",
    "\n",
    "    internship_locations = soup.find_all(class_='location_link view_detail_button')\n",
    "    selected_locations = [location.text.replace('\\n', '').strip() for location in internship_locations[1:41]]\n",
    "\n",
    "    stipends = soup.find_all(class_='stipend')\n",
    "    selected_stipends = [stipend.text.strip() if stipend.text.strip() else 'NA' for stipend in stipends[1:41]]\n",
    "\n",
    "    company_names_list.extend(selected_company_names)\n",
    "    titles_list.extend(selected_titles)\n",
    "    locations_list.extend(selected_locations)\n",
    "    stipends_list.extend(selected_stipends)\n",
    "\n",
    "##Creating data in csv file\n",
    "with open('internship_data.csv', mode='w', newline='', encoding='utf-8') as file:\n",
    "    writer = csv.writer(file)\n",
    "    writer.writerow(['Company Name', 'Title', 'Location', 'Stipend']) \n",
    "    for company, title, location, stipend in zip(company_names_list, titles_list, locations_list, stipends_list):\n",
    "        writer.writerow([company, title, location, stipend])\n",
    "\n",
    "print(\"DataSet created successfully'\")"
   ]
  },
  {
   "cell_type": "code",
   "execution_count": null,
   "id": "064851f0-27f5-49df-9c40-f572e34193ff",
   "metadata": {},
   "outputs": [],
   "source": []
  }
 ],
 "metadata": {
  "kernelspec": {
   "display_name": "Python 3 (ipykernel)",
   "language": "python",
   "name": "python3"
  },
  "language_info": {
   "codemirror_mode": {
    "name": "ipython",
    "version": 3
   },
   "file_extension": ".py",
   "mimetype": "text/x-python",
   "name": "python",
   "nbconvert_exporter": "python",
   "pygments_lexer": "ipython3",
   "version": "3.11.5"
  }
 },
 "nbformat": 4,
 "nbformat_minor": 5
}
